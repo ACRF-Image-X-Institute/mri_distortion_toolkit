{
 "cells": [
  {
   "cell_type": "markdown",
   "id": "c65342c3",
   "metadata": {},
   "source": [
    "# Franken goam analysis\n",
    "\n",
    "The data for this example can be found [here](https://cloudstor.aarnet.edu.au/plus/apps/files/?dir=/MRI-Linac%20Experimental%20Data/FrankenGoam%5EMr&fileid=6991872825).\n",
    "\n",
    "I'm first going to set up the variables to read in this data"
   ]
  },
  {
   "cell_type": "code",
   "execution_count": 1,
   "id": "29e33f1c",
   "metadata": {},
   "outputs": [],
   "source": [
    "from pathlib import Path\n",
    "from mri_distortion_toolkit.MarkerAnalysis import MarkerVolume, MatchedMarkerVolumes\n",
    "from mri_distortion_toolkit.utilities import enumerate_subfolders\n",
    "from mri_distortion_toolkit import calculate_harmonics\n",
    "import numpy as np\n",
    "from mri_distortion_toolkit.utilities import get_dicom_data\n",
    "from mri_distortion_toolkit.MarkerAnalysis import MatchedMarkerVolumes\n",
    "from mri_distortion_toolkit.FieldCalculation import ConvertMatchedMarkersToBz\n",
    "import pandas as pd\n",
    "\n",
    "from mri_distortion_toolkit.Harmonics import SphericalHarmonicFit\n",
    "import seaborn as sns\n",
    "from matplotlib import pyplot as plt\n",
    "\n",
    "\n",
    "dataloc = Path(r'/home/brendan/Downloads/FrankenGoam^Mr/20221107 MR Linac^Test')\n",
    "scans = {'0': '01 localiser_gre',\n",
    "         '1': '02 localiser_gre',\n",
    "         '2': '03 localiser_gre',\n",
    "         '3': '04 gre_trans_AP_330',\n",
    "         '4': '05 gre_trans_PA_330',\n",
    "         '5': '06 gre_sag_AP_330',\n",
    "         '6': '07 gre_sag_PA_330',\n",
    "         '7': '08 gre_cor_RL_330',\n",
    "         '8': '09 gre_cor_LR_330',\n",
    "         '9': '10 t1_tse_256_sag',\n",
    "         '10': '11 t1_tse_256_sag_PA',\n",
    "         '11': '12 t1_tse_256_tra_PA',\n",
    "         '12': '13 t1_tse_256_sag_HF',\n",
    "         '13': '14 t1_tse_256_sag_FH',  # for this one had to add gaussian_image_filter_sd=0.8\n",
    "         '14': '15 t1_tse_256_cor_RL',\n",
    "         '15': '16 t1_tse_256_cor_LR',\n",
    "         '16': '17 localiser_gre',\n",
    "         '17': '18 t1_tse_256_sag_HF_rot',\n",
    "         '18': '19 t1_tse_256_sag_FH_rot',\n",
    "         '19': '20 trufi_sag_128_torsocoil',\n",
    "         '20': '21 trufi_sag_128_torsocoil',\n",
    "         '21': '22 trufi_sag_128_torsocoil'}"
   ]
  },
  {
   "cell_type": "markdown",
   "id": "eafaabed",
   "metadata": {},
   "source": [
    "## Marker extraction\n",
    "\n",
    "Our first step is to extract the markers from each phantom.\n",
    "> **Note that you can skip this step if you have already extracted and saved the marker positions as the next steps will read in these data files.**"
   ]
  },
  {
   "cell_type": "code",
   "execution_count": 2,
   "id": "d1bd7a92",
   "metadata": {},
   "outputs": [
    {
     "name": "stdout",
     "output_type": "stream",
     "text": [
      "Using thresold of  331.1\n",
      "total segmentation time:  63.6 s\n",
      "for 10 t1_tse_256_sag, 618 markers found\n",
      "Using thresold of  315.5\n",
      "total segmentation time:  63.1 s\n",
      "for 12 t1_tse_256_tra_PA, 618 markers found\n",
      "Using thresold of  254.4\n",
      "total segmentation time:  58.9 s\n",
      "for 13 t1_tse_256_sag_HF, 618 markers found\n",
      "Using thresold of  254.4\n",
      "total segmentation time:  50.8 s\n",
      "for 14 t1_tse_256_sag_FH, 618 markers found\n",
      "Using thresold of  241.9\n",
      "total segmentation time:  53.0 s\n",
      "for 15 t1_tse_256_cor_RL, 618 markers found\n"
     ]
    }
   ],
   "source": [
    "# process TSE images\n",
    "scans_to_segment = ['9', '11', '12', '13', '14']\n",
    "gaussian_sd = [1,1,1,0.8,1,1]\n",
    "for scan, sd in zip(scans_to_segment, gaussian_sd):\n",
    "    volume = MarkerVolume(dataloc / scans[scan] / 'Original', n_markers_expected=618, iterative_segmentation=True,\n",
    "                          gaussian_image_filter_sd=sd)\n",
    "    print(f'for {scans[scan]}, {volume.MarkerCentroids.shape[0]} markers found')\n",
    "    volume.export_to_slicer()\n",
    "    volume.save_dicom_data()"
   ]
  },
  {
   "cell_type": "markdown",
   "id": "c3ef3148",
   "metadata": {},
   "source": [
    "## Marker Matching\n",
    "\n",
    "The next step is to match the markers from each of the distorted datasets to the ground truth data. Note that we have previously segmented the ground truth data, and simply import the pre-segmented data here."
   ]
  },
  {
   "cell_type": "code",
   "execution_count": 12,
   "id": "52956b34",
   "metadata": {},
   "outputs": [
    {
     "name": "stderr",
     "output_type": "stream",
     "text": [
      "[MarkerAnalysis.py: line 128  WARNING] MR data file dicom_data.json not found at /home/brendan/Downloads/FrankenGoam^Mr/CT. Continuing\n"
     ]
    },
    {
     "name": "stdout",
     "output_type": "stream",
     "text": [
      "aligning ground truth centroids by \n",
      "x    0.933333\n",
      "y   -0.882222\n",
      "z   -3.753333\n",
      "dtype: float64\n",
      "rotating ground truth centroids by \n",
      "[[ 0.99956145 -0.02737767 -0.0112856 ]\n",
      " [ 0.02757548  0.9994619   0.01776225]\n",
      " [ 0.01079323 -0.01806567  0.99977854]]\n",
      "aligning ground truth centroids by \n",
      "x    0.824444\n",
      "y   -0.777778\n",
      "z   -3.697778\n",
      "dtype: float64\n",
      "rotating ground truth centroids by \n",
      "[[ 0.99948359 -0.0314802  -0.00644519]\n",
      " [ 0.03159597  0.99932529  0.01872583]\n",
      " [ 0.00585135 -0.0189198   0.99980388]]\n",
      "aligning ground truth centroids by \n",
      "x    0.845556\n",
      "y   -0.836667\n",
      "z   -3.712222\n",
      "dtype: float64\n",
      "rotating ground truth centroids by \n",
      "[[ 0.99961028 -0.02775001 -0.00303719]\n",
      " [ 0.02779602  0.99948023  0.01632953]\n",
      " [ 0.00258247 -0.01640759  0.99986205]]\n"
     ]
    }
   ],
   "source": [
    "gt_data_loc = Path(r'/home/brendan/Downloads/FrankenGoam^Mr/CT/slicer_centroids.mrk.json')\n",
    "#align ground truth\n",
    "gt_vol = MarkerVolume(gt_data_loc)\n",
    "gt_vol.rotate_markers(yaxis_angle=180)\n",
    "gt_vol.translate_markers(y_shift=-54)\n",
    "\n",
    "tra_forward_vol = MarkerVolume(dataloc / scans['9'] / 'Original' / 'slicer_centroids.mrk.json')\n",
    "tra_back_vol = MarkerVolume(dataloc / scans['11'] / 'Original' / 'slicer_centroids.mrk.json')\n",
    "tra_match = MatchedMarkerVolumes(gt_vol, tra_forward_vol, reverse_gradient_data=tra_back_vol, n_refernce_markers=9)\n",
    "tra_match.MatchedCentroids.to_csv('_data/tra_markers.csv')\n",
    "\n",
    "sag_forward_vol = MarkerVolume(dataloc / scans['12'] / 'Original' / 'slicer_centroids.mrk.json')\n",
    "sag_back_vol = MarkerVolume(dataloc / scans['13'] / 'Original' / 'slicer_centroids.mrk.json')\n",
    "sag_match = MatchedMarkerVolumes(gt_vol, sag_forward_vol, reverse_gradient_data=sag_back_vol, n_refernce_markers=9)\n",
    "sag_match.MatchedCentroids.to_csv('_data/sag_markers.csv')\n",
    "\n",
    "cor_forward_vol = MarkerVolume(dataloc / scans['14'] / 'Original' / 'slicer_centroids.mrk.json')\n",
    "cor_back_vol = MarkerVolume(dataloc / scans['15'] / 'Original' / 'slicer_centroids.mrk.json')\n",
    "cor_match = MatchedMarkerVolumes(gt_vol, cor_forward_vol, reverse_gradient_data=cor_back_vol, n_refernce_markers=9)\n",
    "cor_match.MatchedCentroids.to_csv('_data/cor_markers.csv')"
   ]
  },
  {
   "cell_type": "markdown",
   "id": "613182fb",
   "metadata": {},
   "source": [
    "## Field calculation\n",
    "\n",
    "Next step is to calculate the encoding fields from the distorted marker positions. Note that we obtain three field estimates; one from each forward/reverse marker set. Each field calculation includes an estimate of the gradient fields and the B0 field."
   ]
  },
  {
   "cell_type": "code",
   "execution_count": 13,
   "id": "34e1995b",
   "metadata": {},
   "outputs": [],
   "source": [
    "data_csv_loc = Path('_data').resolve()\n",
    "# load the matched volume calculated in the previous step.\n",
    "matched_volume = pd.read_csv(data_csv_loc / 'tra_markers.csv', index_col=0).squeeze(\"columns\")\n",
    "dicom_data = dataloc / scans['9'] / 'Original' / 'dicom_data.json'  # previously saved from a MarkerVolume\n",
    "Bz_field = ConvertMatchedMarkersToBz(matched_volume, dicom_data)\n",
    "Bz_field.MagneticFields.to_csv(data_csv_loc / 'tra_Bfields.csv')\n",
    "\n",
    "matched_volume = pd.read_csv(data_csv_loc / 'sag_markers.csv', index_col=0).squeeze(\"columns\")\n",
    "dicom_data = dataloc / scans['12'] / 'Original' / 'dicom_data.json'  # previously saved from a MarkerVolume\n",
    "Bz_field = ConvertMatchedMarkersToBz(matched_volume, dicom_data)\n",
    "Bz_field.MagneticFields.to_csv(data_csv_loc / 'sag_Bfields.csv')\n",
    "\n",
    "matched_volume = pd.read_csv(data_csv_loc / 'cor_markers.csv', index_col=0).squeeze(\"columns\")\n",
    "dicom_data = dataloc / scans['14'] / 'Original' / 'dicom_data.json'  # previously saved from a MarkerVolume\n",
    "Bz_field = ConvertMatchedMarkersToBz(matched_volume, dicom_data)\n",
    "Bz_field.MagneticFields.to_csv(data_csv_loc / 'cor_Bfields.csv')"
   ]
  },
  {
   "cell_type": "markdown",
   "id": "ba0e45f8",
   "metadata": {},
   "source": [
    "## Harmonic calculation and averaging\n",
    "\n",
    "We are now able to calculate the harmonics from each field data set.\n",
    "Note that for each forward/reverse data set, we obtain:\n",
    "\n",
    "- a good estimate of B0 (from the marker offsets in the frequency encode direction)\n",
    "- A good estimate of the gradient in the **phase** and **frequency** direction.\n",
    "\n",
    "The fields in the **slice encode** direction are not reliable, as in this direction we are not able to seperate out B0 and gradient effects. Therefore, we will simply discard these fields. The below table sums up which fields are involved in each direction:\n",
    "\n",
    "| Scan orientation | Slice direction | Phase direction | Frequency direction |\n",
    "| ---------------- | --------------- | --------------- | ------------------- |\n",
    "| Transverse       | z               | **y**           | **x**               |\n",
    "| Coronal          | y               | **x**           | **z**               |\n",
    "| Sagital          | x               | **z**           | **y**               |\n",
    "\n",
    "For each gradient, we obtain two estimates that we trust. We will simply take the average of these two estimates, and use this as our 'best guess'.\n",
    "\n",
    "### Calculate all harmonics and save as csv:"
   ]
  },
  {
   "cell_type": "code",
   "execution_count": 18,
   "id": "1688df46",
   "metadata": {},
   "outputs": [
    {
     "name": "stdout",
     "output_type": "stream",
     "text": [
      "Initial pk-pk:        9.889e+02 μT\n",
      "Reconstructed pk-pk:  9.884e+02 μT\n",
      "Residual pk-pk:       3.581e+00 μT ( 0.4%)\n",
      "Initial pk-pk:        9.885e+02 μT\n",
      "Reconstructed pk-pk:  9.889e+02 μT\n",
      "Residual pk-pk:       2.371e+00 μT ( 0.2%)\n"
     ]
    },
    {
     "name": "stderr",
     "output_type": "stream",
     "text": [
      "[Harmonics.py: line 205  WARNING] residual_pk_pk is greater than 2 %. This may indicate that the order is not high enough,or that the data is non physical (but it heavily depends on your use case!\n"
     ]
    },
    {
     "name": "stdout",
     "output_type": "stream",
     "text": [
      "Initial pk-pk:        3.319e+02 μT\n",
      "Reconstructed pk-pk:  3.338e+02 μT\n",
      "Residual pk-pk:       5.242e+00 μT ( 1.6%)\n",
      "Initial pk-pk:        2.444e+01 μT\n",
      "Reconstructed pk-pk:  2.275e+01 μT\n",
      "Residual pk-pk:       1.924e+01 μT ( 78.7%)\n",
      "Initial pk-pk:        2.799e+02 μT\n",
      "Reconstructed pk-pk:  2.790e+02 μT\n",
      "Residual pk-pk:       4.997e+00 μT ( 1.8%)\n",
      "Initial pk-pk:        9.357e+02 μT\n",
      "Reconstructed pk-pk:  9.364e+02 μT\n",
      "Residual pk-pk:       3.189e+00 μT ( 0.3%)\n"
     ]
    },
    {
     "name": "stderr",
     "output_type": "stream",
     "text": [
      "[Harmonics.py: line 205  WARNING] residual_pk_pk is greater than 2 %. This may indicate that the order is not high enough,or that the data is non physical (but it heavily depends on your use case!\n"
     ]
    },
    {
     "name": "stdout",
     "output_type": "stream",
     "text": [
      "Initial pk-pk:        1.114e+03 μT\n",
      "Reconstructed pk-pk:  1.113e+03 μT\n",
      "Residual pk-pk:       1.339e+01 μT ( 1.2%)\n",
      "Initial pk-pk:        2.484e+01 μT\n",
      "Reconstructed pk-pk:  2.507e+01 μT\n",
      "Residual pk-pk:       1.845e+01 μT ( 74.3%)\n",
      "Initial pk-pk:        9.369e+02 μT\n",
      "Reconstructed pk-pk:  9.365e+02 μT\n",
      "Residual pk-pk:       3.489e+00 μT ( 0.4%)\n",
      "Initial pk-pk:        2.786e+02 μT\n",
      "Reconstructed pk-pk:  2.776e+02 μT\n",
      "Residual pk-pk:       4.486e+00 μT ( 1.6%)\n"
     ]
    },
    {
     "name": "stderr",
     "output_type": "stream",
     "text": [
      "[Harmonics.py: line 205  WARNING] residual_pk_pk is greater than 2 %. This may indicate that the order is not high enough,or that the data is non physical (but it heavily depends on your use case!\n"
     ]
    },
    {
     "name": "stdout",
     "output_type": "stream",
     "text": [
      "Initial pk-pk:        1.111e+03 μT\n",
      "Reconstructed pk-pk:  1.111e+03 μT\n",
      "Residual pk-pk:       1.303e+01 μT ( 1.2%)\n",
      "Initial pk-pk:        2.773e+01 μT\n",
      "Reconstructed pk-pk:  2.846e+01 μT\n",
      "Residual pk-pk:       1.904e+01 μT ( 68.7%)\n"
     ]
    }
   ],
   "source": [
    "# Transverse data\n",
    "# ===================================================================================================================\n",
    "FieldData = pd.read_csv(data_csv_loc / 'tra_Bfields.csv', index_col=0).squeeze(\"columns\")\n",
    "dicom_data_loc = Path(dataloc / scans['9'] / 'Original' / 'dicom_data.json')  # previosly saved from a MarkerVolume\n",
    "dicom_data = get_dicom_data(dicom_data_loc)\n",
    "gradient_strength = np.array(dicom_data['gradient_strength'])\n",
    "normalisation_factor = [1 / gradient_strength[0], 1 / gradient_strength[1], 1 / gradient_strength[2],\n",
    "                        1]  # this normalised gradient harmonics to 1mT/m\n",
    "G_x_Harmonics, G_y_Harmonics, G_z_Harmonics, B0_Harmonics = calculate_harmonics(FieldData,\n",
    "                                                                                n_order=5,\n",
    "                                                                                scale=normalisation_factor)\n",
    "# save for downstream analysis:\n",
    "G_x_Harmonics.harmonics.to_csv(data_csv_loc / 'G_x_Harmonics_tra.csv')\n",
    "G_y_Harmonics.harmonics.to_csv(data_csv_loc / 'G_y_Harmonics_tra.csv')\n",
    "G_z_Harmonics.harmonics.to_csv(data_csv_loc / 'G_z_Harmonics_tra.csv')\n",
    "if B0_Harmonics:  # None evaluates as False\n",
    "    B0_Harmonics.harmonics.to_csv(data_csv_loc / 'B0_Harmonics_tra.csv')\n",
    "# ======================================================================================================================\n",
    "\n",
    "# Sagital data\n",
    "# ===================================================================================================================\n",
    "FieldData = pd.read_csv(data_csv_loc / 'sag_Bfields.csv', index_col=0).squeeze(\"columns\")\n",
    "dicom_data_loc = Path(dataloc / scans['12'] / 'Original' / 'dicom_data.json')  # previosly saved from a MarkerVolume\n",
    "dicom_data = get_dicom_data(dicom_data_loc)\n",
    "gradient_strength = np.array(dicom_data['gradient_strength'])\n",
    "normalisation_factor = [1 / gradient_strength[0], 1 / gradient_strength[1], 1 / gradient_strength[2],\n",
    "                        1]  # this normalised gradient harmonics to 1mT/m\n",
    "G_x_Harmonics, G_y_Harmonics, G_z_Harmonics, B0_Harmonics = calculate_harmonics(FieldData,\n",
    "                                                                                n_order=5,\n",
    "                                                                                scale=normalisation_factor)\n",
    "\n",
    "# save for downstream analysis:\n",
    "G_x_Harmonics.harmonics.to_csv(data_csv_loc / 'G_x_Harmonics_sag.csv')\n",
    "G_y_Harmonics.harmonics.to_csv(data_csv_loc / 'G_y_Harmonics_sag.csv')\n",
    "G_z_Harmonics.harmonics.to_csv(data_csv_loc / 'G_z_Harmonics_sag.csv')\n",
    "if B0_Harmonics:  # None evaluates as False\n",
    "    B0_Harmonics.harmonics.to_csv(data_csv_loc / 'B0_Harmonics_sag.csv')\n",
    "# ======================================================================================================================\n",
    "\n",
    "# C data\n",
    "# ===================================================================================================================\n",
    "FieldData = pd.read_csv(data_csv_loc / 'cor_Bfields.csv', index_col=0).squeeze(\"columns\")\n",
    "dicom_data_loc = Path(dataloc / scans['14'] / 'Original' / 'dicom_data.json')  # previosly saved from a MarkerVolume\n",
    "dicom_data = get_dicom_data(dicom_data_loc)\n",
    "gradient_strength = np.array(dicom_data['gradient_strength'])\n",
    "normalisation_factor = [1 / gradient_strength[0], 1 / gradient_strength[1], 1 / gradient_strength[2],\n",
    "                        1]  # this normalised gradient harmonics to 1mT/m\n",
    "G_x_Harmonics, G_y_Harmonics, G_z_Harmonics, B0_Harmonics = calculate_harmonics(FieldData,\n",
    "                                                                                n_order=5,\n",
    "                                                                                scale=normalisation_factor)\n",
    "\n",
    "# save for downstream analysis:\n",
    "G_x_Harmonics.harmonics.to_csv(data_csv_loc / 'G_x_Harmonics_cor.csv')\n",
    "G_y_Harmonics.harmonics.to_csv(data_csv_loc / 'G_y_Harmonics_cor.csv')\n",
    "G_z_Harmonics.harmonics.to_csv(data_csv_loc / 'G_z_Harmonics_cor.csv')\n",
    "if B0_Harmonics:  # None evaluates as False\n",
    "    B0_Harmonics.harmonics.to_csv(data_csv_loc / 'B0_Harmonics_cor.csv')\n",
    "\n"
   ]
  },
  {
   "cell_type": "markdown",
   "id": "22774792",
   "metadata": {},
   "source": [
    "### take the average of the different harmonics:"
   ]
  },
  {
   "cell_type": "code",
   "execution_count": 19,
   "id": "f78530f2",
   "metadata": {},
   "outputs": [],
   "source": [
    "G_x1 = pd.read_csv(data_csv_loc / 'G_x_Harmonics_tra.csv', index_col=0).squeeze(\"columns\")\n",
    "G_x2 = pd.read_csv(data_csv_loc / 'G_x_Harmonics_cor.csv', index_col=0).squeeze(\"columns\")\n",
    "G_x = (G_x1 + G_x2) / 2\n",
    "G_x.to_csv('_data/Gx.csv')\n",
    "\n",
    "# Gy_Harmonics\n",
    "G_y1 = pd.read_csv(data_csv_loc / 'G_y_Harmonics_tra.csv', index_col=0).squeeze(\"columns\")\n",
    "G_y2 = pd.read_csv(data_csv_loc / 'G_y_Harmonics_sag.csv', index_col=0).squeeze(\"columns\")\n",
    "G_y = (G_y1 + G_y2) / 2\n",
    "G_y.to_csv('_data/Gy.csv')\n",
    "\n",
    "# Gz_Harmonics\n",
    "G_z1 = pd.read_csv(data_csv_loc / 'G_z_Harmonics_sag.csv', index_col=0).squeeze(\"columns\")\n",
    "G_z2 = pd.read_csv(data_csv_loc / 'G_z_Harmonics_cor.csv', index_col=0).squeeze(\"columns\")\n",
    "G_z = (G_z1 + G_z2) / 2\n",
    "G_z.to_csv('_data/Gz.csv')\n",
    "\n",
    "\n",
    "# B0\n",
    "B01 = pd.read_csv(data_csv_loc / 'B0_Harmonics_sag.csv', index_col=0).squeeze(\"columns\")\n",
    "B02 = pd.read_csv(data_csv_loc / 'B0_Harmonics_cor.csv', index_col=0).squeeze(\"columns\")\n",
    "B03 = pd.read_csv(data_csv_loc / 'B0_Harmonics_tra.csv', index_col=0).squeeze(\"columns\")\n",
    "G_x = (B01 + B02 + B03) / 3\n",
    "B01.to_csv('_data/B0.csv')\n",
    "# input_data = pd.DataFrame({'x': [0, 0, 0], 'y': [0, 0, 0], 'z': [0, 0, 0], 'Bz': [0, 1, 2]})\n"
   ]
  },
  {
   "cell_type": "markdown",
   "id": "b164a29f",
   "metadata": {},
   "source": [
    "## Test image correction\n",
    "\n",
    "Ok. So now we have the average harmonics, we can test our ability to correct images.\n",
    "We took some images with the phantom rotated 90 degrees. This will serve as an independant dataset.\n",
    "\n",
    "Note that we have a lot of harmonics available now. You can change the below call and test out the performance of different harmonics."
   ]
  },
  {
   "cell_type": "code",
   "execution_count": 20,
   "id": "3e1e4b34",
   "metadata": {},
   "outputs": [
    {
     "name": "stdout",
     "output_type": "stream",
     "text": [
      " |----------------------------------------------------------------------------------------------------| 0.0% \n",
      " |███-------------------------------------------------------------------------------------------------| 3.1% \n",
      " |██████----------------------------------------------------------------------------------------------| 6.1% \n",
      " |█████████-------------------------------------------------------------------------------------------| 9.2% \n",
      " |████████████----------------------------------------------------------------------------------------| 12.3% \n",
      " |███████████████-------------------------------------------------------------------------------------| 15.3% \n",
      " |██████████████████----------------------------------------------------------------------------------| 18.4% \n",
      " |█████████████████████-------------------------------------------------------------------------------| 21.5% \n",
      " |████████████████████████----------------------------------------------------------------------------| 24.5% \n",
      " |███████████████████████████-------------------------------------------------------------------------| 27.6% \n",
      " |██████████████████████████████----------------------------------------------------------------------| 30.7% \n",
      " |█████████████████████████████████-------------------------------------------------------------------| 33.7% \n",
      " |████████████████████████████████████----------------------------------------------------------------| 36.8% \n",
      " |███████████████████████████████████████-------------------------------------------------------------| 39.9% \n",
      " |██████████████████████████████████████████----------------------------------------------------------| 42.9% \n",
      " |██████████████████████████████████████████████------------------------------------------------------| 46.0% \n",
      " |█████████████████████████████████████████████████---------------------------------------------------| 49.1% \n",
      " |████████████████████████████████████████████████████------------------------------------------------| 52.1% \n",
      " |███████████████████████████████████████████████████████---------------------------------------------| 55.2% \n",
      " |██████████████████████████████████████████████████████████------------------------------------------| 58.3% \n",
      " |█████████████████████████████████████████████████████████████---------------------------------------| 61.3% \n",
      " |████████████████████████████████████████████████████████████████------------------------------------| 64.4% \n",
      " |███████████████████████████████████████████████████████████████████---------------------------------| 67.5% \n",
      " |██████████████████████████████████████████████████████████████████████------------------------------| 70.6% \n",
      " |█████████████████████████████████████████████████████████████████████████---------------------------| 73.6% \n",
      " |████████████████████████████████████████████████████████████████████████████------------------------| 76.7% \n",
      " |███████████████████████████████████████████████████████████████████████████████---------------------| 79.8% \n",
      " |██████████████████████████████████████████████████████████████████████████████████------------------| 82.8% \n",
      " |█████████████████████████████████████████████████████████████████████████████████████---------------| 85.9% \n",
      " |████████████████████████████████████████████████████████████████████████████████████████------------| 89.0% \n",
      " |████████████████████████████████████████████████████████████████████████████████████████████--------| 92.0% \n",
      " |███████████████████████████████████████████████████████████████████████████████████████████████-----| 95.1% \n",
      " |██████████████████████████████████████████████████████████████████████████████████████████████████--| 98.2% \n",
      "\n",
      "total time:  39.4s\n",
      "mean time per slice:  0.1s\n",
      "saving all data as png...\n"
     ]
    },
    {
     "name": "stderr",
     "output_type": "stream",
     "text": [
      "[DistortionCorrection.py: line 233] 219755 negative pixels detected; setting these to zero and continuing\n"
     ]
    },
    {
     "name": "stdout",
     "output_type": "stream",
     "text": [
      "images export to png successful in 24.60451312409714 s\n",
      "saving all data as dcm...\n",
      "images exported to dicom in  0.3s\n"
     ]
    }
   ],
   "source": [
    "from mri_distortion_toolkit.DistortionCorrection import ImageDomainDistortionCorrector\n",
    "from mri_distortion_toolkit.utilities import plot_distortion_xyz_hist\n",
    "\n",
    "\n",
    "distorted_data_loc = dataloc / scans['17'] / 'Original'  # this is a 'rotated' acquisition\n",
    "dicom_data = get_dicom_data(distorted_data_loc / 'dicom_data.json')\n",
    "GDC = ImageDomainDistortionCorrector(ImageDirectory=distorted_data_loc.resolve(),\n",
    "                                gradient_harmonics=[Path('_data/Gx.csv').resolve(),\n",
    "                                                    Path('_data/Gy.csv').resolve(),\n",
    "                                                    Path('_data/Gz.csv').resolve()],\n",
    "                                B0_harmonics=Path('_data/B0.csv').resolve(),\n",
    "                                dicom_data=dicom_data,\n",
    "                                ImExtension='dcm',\n",
    "                                correct_through_plane=True,\n",
    "                                correct_B0=True,\n",
    "                                B0_direction='back')\n",
    "\n",
    "GDC.correct_all_images()\n",
    "GDC.save_all_images()  # saves as png so you can quickly inspect results\n",
    "GDC.save_all_images_as_dicom()  # saves as dicom which can be read into analysis packages."
   ]
  },
  {
   "cell_type": "markdown",
   "id": "e0b78e77",
   "metadata": {},
   "source": [
    "## Assess distortion correction"
   ]
  },
  {
   "cell_type": "code",
   "execution_count": 9,
   "id": "6553b173",
   "metadata": {},
   "outputs": [
    {
     "name": "stderr",
     "output_type": "stream",
     "text": [
      "[MarkerAnalysis.py: line 128  WARNING] MR data file dicom_data.json not found at /home/brendan/Downloads/FrankenGoam^Mr/CT. Continuing\n"
     ]
    },
    {
     "name": "stdout",
     "output_type": "stream",
     "text": [
      "total segmentation time:  5.0 s\n",
      "aligning ground truth centroids by \n",
      "x   -16.423341\n",
      "y   -54.824885\n",
      "z     1.251735\n",
      "dtype: float64\n",
      "rotating ground truth centroids by \n",
      "[[ 0.99984375 -0.00749027 -0.01601168]\n",
      " [ 0.00765598  0.99991751  0.01031325]\n",
      " [ 0.01593311 -0.01043423  0.99981861]]\n",
      "mean distortion:  2.7 mm, std:  1.3 mm, Max:  7.2 mm\n",
      "x_mean:  1.2 mm +-  1.0 mm. max  6.9 mm\n",
      "y_mean:  1.9 mm +-  1.3 mm. max  6.1 mm\n",
      "z_mean:  1.0 mm +-  0.7 mm. max  3.6 mm\n"
     ]
    },
    {
     "data": {
      "image/png": "[encoded data removed]",
      "text/plain": [
       "<Figure size 640x480 with 1 Axes>"
      ]
     },
     "metadata": {},
     "output_type": "display_data"
    }
   ],
   "source": [
    "# Assess correction:\n",
    "gt_data_loc = Path(r'/home/brendan/Downloads/FrankenGoam^Mr/CT/slicer_centroids.mrk.json')\n",
    "# align ground truth:\n",
    "gt_volume.rotate_markers(yaxis_angle=90)\n",
    "gt_volume.rotate_markers(zaxis_angle=180)\n",
    "gt_volume.MarkerCentroids = gt_volume.MarkerCentroids[gt_volume.MarkerCentroids.x > -150]\n",
    "# this line trims \n",
    "gt_volume.translate_markers(x_shift=-14, y_shift=55, z_shift=-3)\n",
    "gt_volume.rotate_markers(xaxis_angle=180)\n",
    "\n",
    "corrected_volume = MarkerVolume(distorted_data_loc / 'corrected_dcm', n_markers_expected=609,  # nb 609 because end slice missing\n",
    "                                iterative_segmentation=False,\n",
    "                                gaussian_image_filter_sd=0.6,\n",
    "                                threshold=412)\n",
    "matched_volume_corrected = MatchedMarkerVolumes(gt_volume, corrected_volume, n_refernce_markers=9)\n",
    "matched_volume_corrected.report()\n",
    "plot_distortion_xyz_hist(matched_volume_corrected)"
   ]
  },
  {
   "cell_type": "markdown",
   "id": "bd64b860",
   "metadata": {},
   "source": [
    "## Assess distortion correction with different combination of harmonics/ data\n",
    "\n",
    "OK, I won't repeat this entire excercise again, but we can assess the ability of our averaged harmonics to correct our original images:\n",
    "\n",
    "| Slice orientation | x_mean (max)  | y_mean (max)  | z_mean (max)  |\n",
    "| ----------------- | ------------- | ------------- | ------------- |\n",
    "| Transverse        | 0.5 (4.9)     | 0.3 (2.3)     | **0.7 (4.0)** |\n",
    "| Coronal           | 0.4 (1.6)     | **0.8 (6.7)** | 0.4 (3.5)     |\n",
    "| Sagital           | **0.9 (5.7)** | 0.2 (1.2)     | 0.3 (3.7)     |\n",
    "\n",
    "I have bolded the slice direction in each case. We don't correct very well in this direction, because we don't take into account the effects of B0 on the slice gradient. Apart from this, we are doing a really good job with distortion correction here. If the harmonics from different scans were really so different (overfitting) I wouldn't expect these results to be so good...\n",
    "\n",
    "\n",
    "Another test we can perform is to substitute out different trusted harmonics. For instance, we could try correcting the sagital data with Gx and Gy transverse, and Gz and B0 coronal . Each of these should be 'trusted' harmonics based on the slice/frequenct/phase encode directions. This code call looks like this:\n",
    "\n",
    "```python\n",
    "GDC = ImageDomainDistortionCorrector(ImageDirectory=distorted_data_loc.parent.resolve(),\n",
    "                                gradient_harmonics=[Path('_data/G_x_Harmonics_tra.csv'),\n",
    "                                                    Path('_data/G_y_Harmonics_tra.csv'),\n",
    "                                                    Path('_data/G_z_Harmonics_cor.csv')],\n",
    "                                B0_harmonics=Path('_data/B0_Harmonics_cor.csv'),\n",
    "                                ImExtension='dcm',\n",
    "                                dicom_data=dis_volume.dicom_data,\n",
    "                                correct_through_plane=True,\n",
    "                                correct_B0=True,\n",
    "                                B0_direction='back')\n",
    "```\n",
    "\n",
    "The 'native' harmonics (i.e. cheating) produce this result:\n",
    "```\n",
    "mean distortion:  0.7 mm, std:  0.3 mm, Max:  3.3 mm\n",
    "x_mean:  0.3 mm +-  0.3 mm. max  1.5 mm\n",
    "y_mean:  0.4 mm +-  0.3 mm. max  2.1 mm\n",
    "z_mean:  0.4 mm +-  0.3 mm. max  3.2 mm\n",
    "```\n",
    "\n",
    "while the substitution above, which basically treats the saigital data as an independant test set, produces this result:\n",
    "\n",
    "```\n",
    "x_mean:  1.0 mm +-  1.0 mm. max  6.3 mm\n",
    "y_mean:  0.5 mm +-  0.5 mm. max  4.5 mm\n",
    "z_mean:  0.4 mm +-  0.3 mm. max  3.3 mm\n",
    "```\n",
    "\n",
    "In this case, the slice direction is `x`, which we expect to be bad. Apart from this, correction of independant data performs nearly as well as the case of using the native harmonics. \n",
    "\n",
    "Again, this reinforces the impression that the poor performance of the average harmonics on the rotated data set is dissapointing and surprising...\n",
    "\n",
    "## Comparison of harmonics\n",
    "\n",
    "Ok so now we are getting different results with different harmonics, the obvious question is how do they actually differ. \n",
    "For the purpose of comparing different harmonics, I am going to define this custom class:"
   ]
  },
  {
   "cell_type": "code",
   "execution_count": null,
   "id": "80d003e1",
   "metadata": {},
   "outputs": [],
   "source": [
    "class CompareHarmonics:\n",
    "    \"\"\"\n",
    "    This is a class mostly intended for debugging/developing.\n",
    "    It provides tools to compare the differences between two harmonic series.\n",
    "    \"\"\"\n",
    "\n",
    "    def __init__(self, series1, series2):\n",
    "\n",
    "        self._series1 = pd.read_csv(series1, index_col=0).squeeze(\"columns\")\n",
    "        self._series2 = pd.read_csv(series2, index_col=0).squeeze(\"columns\")\n",
    "        n_order1 = int(np.sqrt(self._series1.shape[0] - 1))\n",
    "        n_order2 = int(np.sqrt(self._series2.shape[0] - 1))\n",
    "        self.series1_fit = SphericalHarmonicFit(self._series1, n_order=n_order1)\n",
    "        self.series2_fit = SphericalHarmonicFit(self._series2, n_order=n_order2)\n",
    "        self._construct_data_frame()\n",
    "\n",
    "    def _construct_data_frame(self):\n",
    "\n",
    "        self.harmonics_comparison = pd.concat([self.series1_fit.HarmonicsPk_Pk,\n",
    "                                               self.series2_fit.HarmonicsPk_Pk], axis=1)\n",
    "        abs_error = np.abs(np.subtract(self.series1_fit.HarmonicsPk_Pk,\n",
    "                                       self.series2_fit.HarmonicsPk_Pk))\n",
    "        self.harmonics_comparison['absolute_error'] = abs_error\n",
    "        percent_error = np.abs(np.divide(self.series1_fit.HarmonicsPk_Pk * 100,\n",
    "                                         self.series2_fit.HarmonicsPk_Pk) - 100)\n",
    "        self.harmonics_comparison['percent_error'] = percent_error\n",
    "\n",
    "    def plot_cut_planes(self):\n",
    "        self.series1_fit.plot_cut_planes()\n",
    "        self.series2_fit.plot_cut_planes()\n",
    "\n",
    "    def plot_harmonics(self, cut_off=.005, label_data=True):\n",
    "\n",
    "        plt.figure(figsize=[10, 5])\n",
    "        # ax = sns.barplot(self.HarmonicsPk_Pk, y='pk-pk [\\u03BCT]', x=)\n",
    "        CutOffInd1 = abs(self.series1_fit.HarmonicsPk_Pk) < cut_off * abs(self.series1_fit.HarmonicsPk_Pk).max()\n",
    "        CutOffInd2 = abs(self.series2_fit.HarmonicsPk_Pk) < cut_off * abs(self.series2_fit.HarmonicsPk_Pk).max()\n",
    "        CutOffInd = np.logical_not(np.logical_or(np.logical_not(CutOffInd1), np.logical_not(CutOffInd2)))\n",
    "        HarmonicsToPlot_1 = self.series1_fit.HarmonicsPk_Pk.drop(self.series1_fit.HarmonicsPk_Pk[CutOffInd].index)\n",
    "        HarmonicsToPlot_2 = self.series2_fit.HarmonicsPk_Pk.drop(self.series2_fit.HarmonicsPk_Pk[CutOffInd].index)\n",
    "\n",
    "        HarmonicsToPlot_1 = HarmonicsToPlot_1.to_frame()\n",
    "        HarmonicsToPlot_2 = HarmonicsToPlot_2.to_frame()\n",
    "        HarmonicsToPlot_1['series'] = 'one'\n",
    "        HarmonicsToPlot_2['series'] = 'two'\n",
    "        HarmonicsToPlot = pd.concat([HarmonicsToPlot_1, HarmonicsToPlot_2])\n",
    "        HarmonicsToPlot = HarmonicsToPlot.reset_index()\n",
    "        HarmonicsToPlot = HarmonicsToPlot.rename(columns={0: \"pk_pk\"})\n",
    "\n",
    "        axs = sns.barplot(data=HarmonicsToPlot, x=\"index\", y=\"pk_pk\", hue=\"series\")\n",
    "        axs.set_title(f'Principle Harmonics pk-pk (>{cut_off * 100: 1.1f}% of max)')\n",
    "\n",
    "        axs.set_ylabel('pk-pk [\\u03BCT]')\n",
    "        for item in axs.get_xticklabels():\n",
    "            item.set_rotation(45)\n",
    "        if label_data:\n",
    "            for i in axs.containers:\n",
    "                axs.bar_label(i, )\n",
    "        plt.show()"
   ]
  },
  {
   "cell_type": "markdown",
   "id": "a7973b17",
   "metadata": {},
   "source": [
    "Using this class, we can try and get a sense of how the different harmonics differ:"
   ]
  },
  {
   "cell_type": "code",
   "execution_count": null,
   "id": "4480339b",
   "metadata": {},
   "outputs": [],
   "source": [
    "data_loc1 = Path('_data/G_x_Harmonics_rot.csv')\n",
    "data_loc2 = Path('_data/Gx.csv')\n",
    "Gy_compare = CompareHarmonics(data_loc1, data_loc2)\n",
    "Gy_compare.plot_harmonics(cut_off=.005, label_data=False)"
   ]
  },
  {
   "cell_type": "code",
   "execution_count": null,
   "id": "2d300cb7",
   "metadata": {},
   "outputs": [],
   "source": [
    "data_loc1 = Path('_data/G_y_Harmonics_rot.csv')\n",
    "data_loc2 = Path('_data/Gy.csv')\n",
    "Gy_compare = CompareHarmonics(data_loc1, data_loc2)\n",
    "Gy_compare.plot_harmonics(cut_off=.005, label_data=False)"
   ]
  },
  {
   "cell_type": "code",
   "execution_count": null,
   "id": "cd87a9b1",
   "metadata": {},
   "outputs": [],
   "source": [
    "data_loc1 = Path('_data/G_z_Harmonics_rot.csv')\n",
    "data_loc2 = Path('_data/Gz.csv')\n",
    "Gy_compare = CompareHarmonics(data_loc1, data_loc2)\n",
    "Gy_compare.plot_harmonics(cut_off=.005, label_data=False)"
   ]
  },
  {
   "cell_type": "code",
   "execution_count": null,
   "id": "57f45179",
   "metadata": {},
   "outputs": [],
   "source": [
    "data_loc1 = Path('_data/B0_Harmonics_rot.csv')\n",
    "data_loc2 = Path('_data/B0.csv')\n",
    "Gy_compare = CompareHarmonics(data_loc1, data_loc2)\n",
    "Gy_compare.plot_harmonics(cut_off=.1, label_data=False)"
   ]
  },
  {
   "cell_type": "markdown",
   "id": "47d1ca7b",
   "metadata": {},
   "source": [
    "OK so from this comparison: (these observations were made by zooming in to these plots, not all statements are obvious based on the default plot view)\n",
    "\n",
    "- **Gx**: This is the slice encode direction, so we would expect to see the biggest differences. We see a different direction in the `A_1_0` and `A_2_0` terms (typically associated with B0). Other terms which differ include `B_3_1` and `B_5_1` which are present in the 'rot' harmonics but not the averaged harmonics. These aren't 'classic' B0 terms but may still be a B0 effect\n",
    "- **Gy**: Since the Gy is the frequency encode direction, we expect that our rotated harmonics should closely match the averaged harmonics. This is not really the case; there is again a relatively big difference in `A_1_0` which is present in the averaged harmonics, but not the rotated harmonics. There is a smaller differnce in the `A_1_1` term, with the rotated harmonics having a larger value.\n",
    "- **Gz**: This is the phase encode direction. We would expect a close match, and this is what we see\n",
    "- **B0** B0 is hard to fit, because it tends to have many higher order components and also the field components are small, which means that noise has a higher impact. Nevertheless, the agreement is reasonable here.\n",
    "\n",
    "OK. Based on this, it seems like maybe the worst two harmonics are in Gx and Gy. What happens if we replace these with their 'rotated' counterparts?\n",
    "\n",
    "Original result:\n",
    "```\n",
    "x_mean:  0.9 mm +-  0.8 mm. max  4.1 mm\n",
    "y_mean:  1.1 mm +-  0.8 mm. max  5.0 mm\n",
    "z_mean:  0.8 mm +-  0.6 mm. max  3.5 mm\n",
    "```\n",
    "Using all `rot` harmonics:\n",
    "```\n",
    "x_mean:  0.6 mm +-  0.5 mm. max  2.7 mm\n",
    "y_mean:  0.5 mm +-  0.5 mm. max  2.6 mm\n",
    "z_mean:  0.4 mm +-  0.3 mm. max  2.0 mm\n",
    "```\n",
    "\n",
    "Gx and Gy replaced with `rot` harmonics\n",
    "```\n",
    "mean distortion:  0.8 mm, std:  0.7 mm, Max:  5.2 mm\n",
    "x_mean:  0.5 mm +-  0.5 mm. max  4.5 mm\n",
    "y_mean:  0.4 mm +-  0.5 mm. max  3.7 mm\n",
    "z_mean:  0.3 mm +-  0.3 mm. max  2.0 mm\n",
    "```\n",
    "\n",
    "Well well well. This actually improved the performance compared to the native harmonics! so the problem is defintely with the Gx and Gy harmonics. Let's try replacing them one at a time:\n",
    "\n",
    "only `Gx_rot`\n",
    "```\n",
    "mean distortion:  1.5 mm, std:  0.7 mm, Max:  5.2 mm\n",
    "x_mean:  0.5 mm +-  0.5 mm. max  4.6 mm\n",
    "y_mean:  1.0 mm +-  0.6 mm. max  3.5 mm\n",
    "z_mean:  0.8 mm +-  0.5 mm. max  2.1 mm\n",
    "```\n",
    "\n",
    "Ok this did result in a substantial degradiation in y...\n",
    "\n",
    "only `gy_rot`\n",
    "```\n",
    "x_mean:  0.9 mm +-  0.7 mm. max  3.6 mm\n",
    "y_mean:  0.6 mm +-  0.5 mm. max  3.4 mm\n",
    "z_mean:  0.6 mm +-  0.5 mm. max  3.4 mm\n",
    "```\n",
    "\n",
    "\n",
    "OK well based on this, we can clearly see that the the two harmonics we have got a substantial differnence in are Gx and Gy.\n",
    "\n",
    "ok one last test. Let's try using the non_rotated sagital harmonics (i.e. harmonics from the same sequence, but different scan). \n",
    "\n",
    "\n",
    "all `sag` harmonics\n",
    "```\n",
    "mean distortion:  1.7 mm, std:  0.9 mm, Max:  6.6 mm\n",
    "x_mean:  0.7 mm +-  0.6 mm. max  3.6 mm\n",
    "y_mean:  1.1 mm +-  0.9 mm. max  5.4 mm\n",
    "z_mean:  0.7 mm +-  0.5 mm. max  3.2 mm\n",
    "```\n",
    "\n",
    "this is still a slight improvement over the average harmonics. we might expect a slight improvement particularly in x, the slice direction, because these harmonics will include B0 effects in that direction. Other than that, we would expect similar performance - and I think this is pretty much what we do see...\n",
    "\n",
    "The thing that is actually the **most** comptabile with all these results is that the markers have actually shifted for the rotated scan..."
   ]
  },
  {
   "cell_type": "code",
   "execution_count": null,
   "id": "512e1744",
   "metadata": {},
   "outputs": [],
   "source": []
  },
  {
   "cell_type": "code",
   "execution_count": null,
   "id": "49e90f37",
   "metadata": {},
   "outputs": [],
   "source": []
  }
 ],
 "metadata": {
  "kernelspec": {
   "display_name": "Python 3 (ipykernel)",
   "language": "python",
   "name": "python3"
  },
  "language_info": {
   "codemirror_mode": {
    "name": "ipython",
    "version": 3
   },
   "file_extension": ".py",
   "mimetype": "text/x-python",
   "name": "python",
   "nbconvert_exporter": "python",
   "pygments_lexer": "ipython3",
   "version": "3.10.6"
  }
 },
 "nbformat": 4,
 "nbformat_minor": 5
}
