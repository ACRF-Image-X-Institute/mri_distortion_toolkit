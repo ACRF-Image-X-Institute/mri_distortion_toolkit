{
 "cells": [
  {
   "cell_type": "markdown",
   "id": "c65342c3",
   "metadata": {},
   "source": [
    "# Franken goam analysis\n",
    "\n",
    "The data for this example can be found [here](https://cloudstor.aarnet.edu.au/plus/apps/files/?dir=/MRI-Linac%20Experimental%20Data/FrankenGoam%5EMr&fileid=6991872825).\n",
    "\n",
    "I'm first going to set up the variables to read in this data"
   ]
  },
  {
   "cell_type": "code",
   "execution_count": 4,
   "id": "29e33f1c",
   "metadata": {},
   "outputs": [],
   "source": [
    "dataloc = Path(r'/home/brendan/Downloads/FrankenGoam^Mr/20221107 MR Linac^Test')\n",
    "from pathlib import Path\n",
    "from mri_distortion_toolkit.MarkerAnalysis import MarkerVolume, MatchedMarkerVolumes\n",
    "from mri_distortion_toolkit.utilities import enumerate_subfolders\n",
    "\n",
    "\n",
    "scans = {'0': '01 localiser_gre',\n",
    "         '1': '02 localiser_gre',\n",
    "         '2': '03 localiser_gre',\n",
    "         '3': '04 gre_trans_AP_330',\n",
    "         '4': '05 gre_trans_PA_330',\n",
    "         '5': '06 gre_sag_AP_330',\n",
    "         '6': '07 gre_sag_PA_330',\n",
    "         '7': '08 gre_cor_RL_330',\n",
    "         '8': '09 gre_cor_LR_330',\n",
    "         '9': '10 t1_tse_256_sag',\n",
    "         '10': '11 t1_tse_256_sag_PA',\n",
    "         '11': '12 t1_tse_256_tra_PA',\n",
    "         '12': '13 t1_tse_256_sag_HF',\n",
    "         '13': '14 t1_tse_256_sag_FH',  # for this one had to add gaussian_image_filter_sd=0.8\n",
    "         '14': '15 t1_tse_256_cor_RL',\n",
    "         '15': '16 t1_tse_256_cor_LR',\n",
    "         '16': '17 localiser_gre',\n",
    "         '17': '18 t1_tse_256_sag_HF_rot',\n",
    "         '18': '19 t1_tse_256_sag_FH_rot',\n",
    "         '19': '20 trufi_sag_128_torsocoil',\n",
    "         '20': '21 trufi_sag_128_torsocoil',\n",
    "         '21': '22 trufi_sag_128_torsocoil'}"
   ]
  },
  {
   "cell_type": "markdown",
   "id": "eafaabed",
   "metadata": {},
   "source": [
    "## Marker extraction\n",
    "\n",
    "Our first step is to extract the markers from each phantom.\n",
    "Note that you can skip this step if you have already extracted and saved the marker positions as the next steps will read in these data files."
   ]
  },
  {
   "cell_type": "code",
   "execution_count": 5,
   "id": "d1bd7a92",
   "metadata": {},
   "outputs": [
    {
     "name": "stdout",
     "output_type": "stream",
     "text": [
      "Using thresold of  331.1\n",
      "total segmentation time:  63.2 s\n",
      "for 10 t1_tse_256_sag, 618 markers found\n",
      "Using thresold of  315.5\n",
      "total segmentation time:  64.2 s\n",
      "for 12 t1_tse_256_tra_PA, 618 markers found\n",
      "Using thresold of  254.4\n",
      "total segmentation time:  48.5 s\n",
      "for 13 t1_tse_256_sag_HF, 618 markers found\n",
      "Using thresold of  254.4\n",
      "total segmentation time:  45.6 s\n",
      "for 14 t1_tse_256_sag_FH, 618 markers found\n",
      "Using thresold of  241.9\n",
      "total segmentation time:  50.2 s\n",
      "for 15 t1_tse_256_cor_RL, 618 markers found\n"
     ]
    }
   ],
   "source": [
    "# process TSE images\n",
    "scans_to_segment = ['9', '11', '12', '13', '14']\n",
    "gaussian_sd = [1,1,1,0.8,1,1]\n",
    "for scan, sd in zip(scans_to_segment, gaussian_sd):\n",
    "    volume = MarkerVolume(dataloc / scans[scan] / 'Original', n_markers_expected=618, iterative_segmentation=True,\n",
    "                          gaussian_image_filter_sd=sd)\n",
    "    print(f'for {scans[scan]}, {volume.MarkerCentroids.shape[0]} markers found')\n",
    "    volume.export_to_slicer()\n",
    "    volume.save_dicom_data()"
   ]
  },
  {
   "cell_type": "markdown",
   "id": "c3ef3148",
   "metadata": {},
   "source": [
    "## Marker Matching\n",
    "\n",
    "The next step is to match the markers from each of the distorted datasets to the ground truth data. Note that we have previously segmented the ground truth data, and simply import the pre-segmented data here."
   ]
  },
  {
   "cell_type": "code",
   "execution_count": 3,
   "id": "52956b34",
   "metadata": {},
   "outputs": [
    {
     "name": "stderr",
     "output_type": "stream",
     "text": [
      "[MarkerAnalysis.py: line 128  WARNING] MR data file dicom_data.json not found at /home/brendan/Downloads/FrankenGoam^Mr/CT. Continuing\n"
     ]
    },
    {
     "name": "stdout",
     "output_type": "stream",
     "text": [
      "aligning ground truth centroids by \n",
      "x     0.933333\n",
      "y   -54.882222\n",
      "z    -3.753333\n",
      "dtype: float64\n",
      "rotating ground truth centroids by \n",
      "[[ 0.99956145 -0.02737767 -0.0112856 ]\n",
      " [ 0.02757548  0.9994619   0.01776225]\n",
      " [ 0.01079323 -0.01806567  0.99977854]]\n",
      "aligning ground truth centroids by \n",
      "x     0.812222\n",
      "y   -54.786667\n",
      "z    -3.748889\n",
      "dtype: float64\n",
      "rotating ground truth centroids by \n",
      "[[ 0.99944264 -0.03303426 -0.00481124]\n",
      " [ 0.03311539  0.99929138  0.01789175]\n",
      " [ 0.00421679 -0.0180411   0.99982835]]\n",
      "aligning ground truth centroids by \n",
      "x     0.870000\n",
      "y   -54.838889\n",
      "z    -3.707778\n",
      "dtype: float64\n",
      "rotating ground truth centroids by \n",
      "[[ 0.99965388 -0.02590762 -0.00457264]\n",
      " [ 0.02598162  0.99951881  0.01694392]\n",
      " [ 0.00413146 -0.01705686  0.99984599]]\n"
     ]
    }
   ],
   "source": [
    "from mri_distortion_toolkit.MarkerAnalysis import MatchedMarkerVolumes\n",
    "\n",
    "ct_loc = Path(r'/home/brendan/Downloads/FrankenGoam^Mr/CT/slicer_centroids.mrk.json')\n",
    "if not Path('_data').is_dir():\n",
    "    Path('_data').mkdir\n",
    "\n",
    "gt_vol = MarkerVolume(ct_loc)\n",
    "gt_vol.rotate_markers(yaxis_angle=180)  # rotate the ground truth so it matched acquisition geometry\n",
    "\n",
    "tra_forward_vol = MarkerVolume(dataloc / scans['0'] / 'Original' / 'slicer_centroids.mrk.json')\n",
    "tra_back_vol = MarkerVolume(dataloc / scans['2'] / 'Original' / 'slicer_centroids.mrk.json')\n",
    "tra_match = MatchedMarkerVolumes(gt_vol, tra_forward_vol, reverse_gradient_data=tra_back_vol, n_refernce_markers=9)\n",
    "tra_match.MatchedCentroids.to_csv('_data/tra_markers.csv')\n",
    "\n",
    "sag_forward_vol = MarkerVolume(dataloc / scans['3'] / 'Original' / 'slicer_centroids.mrk.json')\n",
    "sag_back_vol = MarkerVolume(dataloc / scans['4'] / 'Original' / 'slicer_centroids.mrk.json')\n",
    "sag_match = MatchedMarkerVolumes(gt_vol, sag_forward_vol, reverse_gradient_data=sag_back_vol, n_refernce_markers=9)\n",
    "sag_match.MatchedCentroids.to_csv('_data/sag_markers.csv')\n",
    "\n",
    "cor_forward_vol = MarkerVolume(dataloc / scans['5'] / 'Original' / 'slicer_centroids.mrk.json')\n",
    "cor_back_vol = MarkerVolume(dataloc / scans['6'] / 'Original' / 'slicer_centroids.mrk.json')\n",
    "cor_match = MatchedMarkerVolumes(gt_vol, cor_forward_vol, reverse_gradient_data=cor_back_vol, n_refernce_markers=9)\n",
    "cor_match.MatchedCentroids.to_csv('_data/cor_markers.csv')"
   ]
  },
  {
   "cell_type": "code",
   "execution_count": null,
   "id": "b9cfbc06",
   "metadata": {},
   "outputs": [],
   "source": [
    "tra_forward_vol.plot"
   ]
  },
  {
   "cell_type": "markdown",
   "id": "613182fb",
   "metadata": {},
   "source": [
    "## Field calculation\n",
    "\n",
    "Next step is to calculate the encoding fields from the distorted marker positions. Note that we obtain three field estimates; one from each forward/reverse marker set. Each field calculation includes an estimate of the gradient fields and the B0 field."
   ]
  },
  {
   "cell_type": "code",
   "execution_count": 4,
   "id": "34e1995b",
   "metadata": {},
   "outputs": [],
   "source": [
    "from mri_distortion_toolkit.FieldCalculation import ConvertMatchedMarkersToBz\n",
    "import pandas as pd\n",
    "\n",
    "data_csv_loc = Path('_data').resolve()\n",
    "# load the matched volume calculated in the previous step.\n",
    "matched_volume = pd.read_csv(data_csv_loc / 'tra_markers.csv', index_col=0).squeeze(\"columns\")\n",
    "dicom_data = dataloc / scans['0'] / 'Original' / 'dicom_data.json'  # previously saved from a MarkerVolume\n",
    "Bz_field = ConvertMatchedMarkersToBz(matched_volume, dicom_data)\n",
    "Bz_field.MagneticFields.to_csv(data_csv_loc / 'tra_Bfields.csv')\n",
    "\n",
    "matched_volume = pd.read_csv(data_csv_loc / 'sag_markers.csv', index_col=0).squeeze(\"columns\")\n",
    "dicom_data = dataloc / scans['3'] / 'Original' / 'dicom_data.json'  # previously saved from a MarkerVolume\n",
    "Bz_field = ConvertMatchedMarkersToBz(matched_volume, dicom_data)\n",
    "Bz_field.MagneticFields.to_csv(data_csv_loc / 'sag_Bfields.csv')\n",
    "\n",
    "matched_volume = pd.read_csv(data_csv_loc / 'cor_markers.csv', index_col=0).squeeze(\"columns\")\n",
    "dicom_data = dataloc / scans['5'] / 'Original' / 'dicom_data.json'  # previously saved from a MarkerVolume\n",
    "Bz_field = ConvertMatchedMarkersToBz(matched_volume, dicom_data)\n",
    "Bz_field.MagneticFields.to_csv(data_csv_loc / 'cor_Bfields.csv')"
   ]
  },
  {
   "cell_type": "markdown",
   "id": "ba0e45f8",
   "metadata": {},
   "source": [
    "## Harmonic calculation and averaging\n",
    "\n",
    "We are now able to calculate the harmonics from each field data set.\n",
    "Note that for each forward/reverse data set, we obtain:\n",
    "\n",
    "- a good estimate of B0 (from the marker offsets in the frequency encode direction)\n",
    "- A good estimate of the gradient in the **phase** and **frequency** direction.\n",
    "\n",
    "The fields in the **slice encode** direction are not reliable, as in this direction we are not able to seperate out B0 and gradient effects. Therefore, we will simply discard these fields. The below table sums up which fields are involved in each direction:\n",
    "\n",
    "| Scan orientation | Slice direction | Phase direction | Frequency direction |\n",
    "| ---------------- | --------------- | --------------- | ------------------- |\n",
    "| Transverse       | z               | **y**           | **x**               |\n",
    "| Coronal          | y               | **x**           | **z**               |\n",
    "| Sagital          | x               | **z**           | **y**               |\n",
    "\n",
    "For each gradient, we obtain two estimates that we trust. We will simply take the average of these two estimates, and use this as our 'best guess'.\n",
    "\n",
    "### Calculate all harmonics and save as csv:"
   ]
  },
  {
   "cell_type": "code",
   "execution_count": 5,
   "id": "1688df46",
   "metadata": {},
   "outputs": [
    {
     "name": "stdout",
     "output_type": "stream",
     "text": [
      "Initial pk-pk:        9.889e+02 μT\n",
      "Reconstructed pk-pk:  9.884e+02 μT\n",
      "Residual pk-pk:       3.581e+00 μT ( 0.4%)\n",
      "Initial pk-pk:        9.885e+02 μT\n",
      "Reconstructed pk-pk:  9.889e+02 μT\n",
      "Residual pk-pk:       2.371e+00 μT ( 0.2%)\n",
      "Initial pk-pk:        3.319e+02 μT\n",
      "Reconstructed pk-pk:  3.338e+02 μT\n",
      "Residual pk-pk:       5.242e+00 μT ( 1.6%)\n"
     ]
    },
    {
     "name": "stderr",
     "output_type": "stream",
     "text": [
      "[Harmonics.py: line 176  WARNING] residual_pk_pk is greater than 2 %. This may indicate that the order is not high enough,or that the data is non physical (but it heavily depends on your use case!\n"
     ]
    },
    {
     "name": "stdout",
     "output_type": "stream",
     "text": [
      "Initial pk-pk:        2.444e+01 μT\n",
      "Reconstructed pk-pk:  2.426e+01 μT\n",
      "Residual pk-pk:       3.998e+00 μT ( 16.4%)\n",
      "Initial pk-pk:        2.799e+02 μT\n",
      "Reconstructed pk-pk:  2.790e+02 μT\n",
      "Residual pk-pk:       4.997e+00 μT ( 1.8%)\n",
      "Initial pk-pk:        9.357e+02 μT\n",
      "Reconstructed pk-pk:  9.364e+02 μT\n",
      "Residual pk-pk:       3.189e+00 μT ( 0.3%)\n",
      "Initial pk-pk:        1.114e+03 μT\n",
      "Reconstructed pk-pk:  1.113e+03 μT\n",
      "Residual pk-pk:       1.339e+01 μT ( 1.2%)\n"
     ]
    },
    {
     "name": "stderr",
     "output_type": "stream",
     "text": [
      "[Harmonics.py: line 176  WARNING] residual_pk_pk is greater than 2 %. This may indicate that the order is not high enough,or that the data is non physical (but it heavily depends on your use case!\n"
     ]
    },
    {
     "name": "stdout",
     "output_type": "stream",
     "text": [
      "Initial pk-pk:        2.484e+01 μT\n",
      "Reconstructed pk-pk:  2.561e+01 μT\n",
      "Residual pk-pk:       3.641e+00 μT ( 14.7%)\n",
      "Initial pk-pk:        9.368e+02 μT\n",
      "Reconstructed pk-pk:  9.364e+02 μT\n",
      "Residual pk-pk:       2.981e+00 μT ( 0.3%)\n",
      "Initial pk-pk:        2.786e+02 μT\n",
      "Reconstructed pk-pk:  2.776e+02 μT\n",
      "Residual pk-pk:       4.812e+00 μT ( 1.7%)\n",
      "Initial pk-pk:        1.112e+03 μT\n",
      "Reconstructed pk-pk:  1.112e+03 μT\n",
      "Residual pk-pk:       1.314e+01 μT ( 1.2%)\n"
     ]
    },
    {
     "name": "stderr",
     "output_type": "stream",
     "text": [
      "[Harmonics.py: line 176  WARNING] residual_pk_pk is greater than 2 %. This may indicate that the order is not high enough,or that the data is non physical (but it heavily depends on your use case!\n"
     ]
    },
    {
     "name": "stdout",
     "output_type": "stream",
     "text": [
      "Initial pk-pk:        2.853e+01 μT\n",
      "Reconstructed pk-pk:  2.841e+01 μT\n",
      "Residual pk-pk:       3.330e+00 μT ( 11.7%)\n"
     ]
    }
   ],
   "source": [
    "from mri_distortion_toolkit import calculate_harmonics\n",
    "import numpy as np\n",
    "from mri_distortion_toolkit.utilities import get_dicom_data\n",
    "\n",
    "# Transverse data\n",
    "# ===================================================================================================================\n",
    "FieldData = pd.read_csv(data_csv_loc / 'tra_Bfields.csv', index_col=0).squeeze(\"columns\")\n",
    "dicom_data_loc = Path(dataloc / scans['0'] / 'Original' / 'dicom_data.json')  # previosly saved from a MarkerVolume\n",
    "dicom_data = get_dicom_data(dicom_data_loc)\n",
    "gradient_strength = np.array(dicom_data['gradient_strength'])\n",
    "normalisation_factor = [1 / gradient_strength[0], 1 / gradient_strength[1], 1 / gradient_strength[2],\n",
    "                        1]  # this normalised gradient harmonics to 1mT/m\n",
    "G_x_Harmonics, G_y_Harmonics, G_z_Harmonics, B0_Harmonics = calculate_harmonics(FieldData,\n",
    "                                                                                n_order=[5, 5, 5, 8],\n",
    "                                                                                scale=normalisation_factor)\n",
    "# save for downstream analysis:\n",
    "G_x_Harmonics.harmonics.to_csv(data_csv_loc / 'G_x_Harmonics_tra.csv')\n",
    "G_y_Harmonics.harmonics.to_csv(data_csv_loc / 'G_y_Harmonics_tra.csv')\n",
    "G_z_Harmonics.harmonics.to_csv(data_csv_loc / 'G_z_Harmonics_tra.csv')\n",
    "if B0_Harmonics:  # None evaluates as False\n",
    "    B0_Harmonics.harmonics.to_csv(data_csv_loc / 'B0_Harmonics_tra.csv')\n",
    "    \n",
    "# Sagital Data\n",
    "# ======================================================================================================================\n",
    "FieldData = pd.read_csv(data_csv_loc / 'sag_Bfields.csv', index_col=0).squeeze(\"columns\")\n",
    "dicom_data_loc = Path(dataloc / scans['3'] / 'Original' / 'dicom_data.json')  # previosly saved from a MarkerVolume\n",
    "dicom_data = get_dicom_data(dicom_data_loc)\n",
    "gradient_strength = np.array(dicom_data['gradient_strength'])\n",
    "normalisation_factor = [1 / gradient_strength[0], 1 / gradient_strength[1], 1 / gradient_strength[2],\n",
    "                        1]  # this normalised gradient harmonics to 1mT/m\n",
    "G_x_Harmonics, G_y_Harmonics, G_z_Harmonics, B0_Harmonics = calculate_harmonics(FieldData,\n",
    "                                                                                n_order=[5, 5, 5, 8],\n",
    "                                                                                scale=normalisation_factor)\n",
    "# save for downstream analysis:\n",
    "G_x_Harmonics.harmonics.to_csv(data_csv_loc / 'G_x_Harmonics_sag.csv')\n",
    "G_y_Harmonics.harmonics.to_csv(data_csv_loc / 'G_y_Harmonics_sag.csv')\n",
    "G_z_Harmonics.harmonics.to_csv(data_csv_loc / 'G_z_Harmonics_sag.csv')\n",
    "if B0_Harmonics:  # None evaluates as False\n",
    "    B0_Harmonics.harmonics.to_csv(data_csv_loc / 'B0_Harmonics_sag.csv')\n",
    "    \n",
    "# Coronal data\n",
    "# ======================================================================================================================\n",
    "\n",
    "FieldData = pd.read_csv(data_csv_loc / 'cor_Bfields.csv', index_col=0).squeeze(\"columns\")\n",
    "dicom_data_loc = Path(dataloc / scans['5'] / 'Original' / 'dicom_data.json')  # previosly saved from a MarkerVolume\n",
    "dicom_data = get_dicom_data(dicom_data_loc)\n",
    "gradient_strength = np.array(dicom_data['gradient_strength'])\n",
    "normalisation_factor = [1 / gradient_strength[0], 1 / gradient_strength[1], 1 / gradient_strength[2],\n",
    "                        1]  # this normalised gradient harmonics to 1mT/m\n",
    "G_x_Harmonics, G_y_Harmonics, G_z_Harmonics, B0_Harmonics = calculate_harmonics(FieldData,\n",
    "                                                                                n_order=[5, 5, 5, 8],\n",
    "                                                                                scale=normalisation_factor)\n",
    "\n",
    "# save for downstream analysis:\n",
    "G_x_Harmonics.harmonics.to_csv(data_csv_loc / 'G_x_Harmonics_cor.csv')\n",
    "G_y_Harmonics.harmonics.to_csv(data_csv_loc / 'G_y_Harmonics_cor.csv')\n",
    "G_z_Harmonics.harmonics.to_csv(data_csv_loc / 'G_z_Harmonics_cor.csv')\n",
    "if B0_Harmonics:  # None evaluates as False\n",
    "    B0_Harmonics.harmonics.to_csv(data_csv_loc / 'B0_Harmonics_cor.csv')\n"
   ]
  },
  {
   "cell_type": "markdown",
   "id": "22774792",
   "metadata": {},
   "source": [
    "### take the average of the different harmonics:"
   ]
  },
  {
   "cell_type": "code",
   "execution_count": 6,
   "id": "f78530f2",
   "metadata": {},
   "outputs": [],
   "source": [
    "G_x1 = pd.read_csv(data_csv_loc / 'G_x_Harmonics_tra.csv', index_col=0).squeeze(\"columns\")\n",
    "G_x2 = pd.read_csv(data_csv_loc / 'G_x_Harmonics_cor.csv', index_col=0).squeeze(\"columns\")\n",
    "G_x = (G_x1 + G_x2) / 2\n",
    "G_x.to_csv('_data/Gx.csv')\n",
    "\n",
    "# Gy_Harmonics\n",
    "G_y1 = pd.read_csv(data_csv_loc / 'G_y_Harmonics_tra.csv', index_col=0).squeeze(\"columns\")\n",
    "G_y2 = pd.read_csv(data_csv_loc / 'G_y_Harmonics_sag.csv', index_col=0).squeeze(\"columns\")\n",
    "G_y = (G_y1 + G_y2) / 2\n",
    "G_y.to_csv('_data/Gy.csv')\n",
    "\n",
    "# Gz_Harmonics\n",
    "G_z1 = pd.read_csv(data_csv_loc / 'G_z_Harmonics_sag.csv', index_col=0).squeeze(\"columns\")\n",
    "G_z2 = pd.read_csv(data_csv_loc / 'G_z_Harmonics_cor.csv', index_col=0).squeeze(\"columns\")\n",
    "G_z = (G_z1 + G_z2) / 2\n",
    "G_z.to_csv('_data/Gz.csv')\n",
    "\n",
    "\n",
    "# B0\n",
    "B01 = pd.read_csv(data_csv_loc / 'B0_Harmonics_sag.csv', index_col=0).squeeze(\"columns\")\n",
    "B02 = pd.read_csv(data_csv_loc / 'B0_Harmonics_cor.csv', index_col=0).squeeze(\"columns\")\n",
    "B03 = pd.read_csv(data_csv_loc / 'B0_Harmonics_tra.csv', index_col=0).squeeze(\"columns\")\n",
    "G_x = (B01 + B02 + B03) / 3\n",
    "B01.to_csv('_data/B0.csv')\n",
    "# input_data = pd.DataFrame({'x': [0, 0, 0], 'y': [0, 0, 0], 'z': [0, 0, 0], 'Bz': [0, 1, 2]})\n"
   ]
  },
  {
   "cell_type": "markdown",
   "id": "b164a29f",
   "metadata": {},
   "source": [
    "## Test image correction\n",
    "\n",
    "Ok. So now we have the average harmonics, we can test our ability to correct images.\n",
    "We took some images with the phantom rotated 90 degrees. This will serve as an independant dataset.\n",
    "\n",
    "Note that we have a lot of harmonics available now. You can change the below call and test out the performance of different harmonics."
   ]
  },
  {
   "cell_type": "code",
   "execution_count": 13,
   "id": "3e1e4b34",
   "metadata": {},
   "outputs": [
    {
     "name": "stdout",
     "output_type": "stream",
     "text": [
      " |----------------------------------------------------------------------------------------------------| 0.0% \n",
      " |███-------------------------------------------------------------------------------------------------| 3.1% \n",
      " |██████----------------------------------------------------------------------------------------------| 6.1% \n",
      " |█████████-------------------------------------------------------------------------------------------| 9.2% \n",
      " |████████████----------------------------------------------------------------------------------------| 12.3% \n",
      " |███████████████-------------------------------------------------------------------------------------| 15.3% \n",
      " |██████████████████----------------------------------------------------------------------------------| 18.4% \n",
      " |█████████████████████-------------------------------------------------------------------------------| 21.5% \n",
      " |████████████████████████----------------------------------------------------------------------------| 24.5% \n",
      " |███████████████████████████-------------------------------------------------------------------------| 27.6% \n",
      " |██████████████████████████████----------------------------------------------------------------------| 30.7% \n",
      " |█████████████████████████████████-------------------------------------------------------------------| 33.7% \n",
      " |████████████████████████████████████----------------------------------------------------------------| 36.8% \n",
      " |███████████████████████████████████████-------------------------------------------------------------| 39.9% \n",
      " |██████████████████████████████████████████----------------------------------------------------------| 42.9% \n",
      " |██████████████████████████████████████████████------------------------------------------------------| 46.0% \n",
      " |█████████████████████████████████████████████████---------------------------------------------------| 49.1% \n",
      " |████████████████████████████████████████████████████------------------------------------------------| 52.1% \n",
      " |███████████████████████████████████████████████████████---------------------------------------------| 55.2% \n",
      " |██████████████████████████████████████████████████████████------------------------------------------| 58.3% \n",
      " |█████████████████████████████████████████████████████████████---------------------------------------| 61.3% \n",
      " |████████████████████████████████████████████████████████████████------------------------------------| 64.4% \n",
      " |███████████████████████████████████████████████████████████████████---------------------------------| 67.5% \n",
      " |██████████████████████████████████████████████████████████████████████------------------------------| 70.6% \n",
      " |█████████████████████████████████████████████████████████████████████████---------------------------| 73.6% \n",
      " |████████████████████████████████████████████████████████████████████████████------------------------| 76.7% \n",
      " |███████████████████████████████████████████████████████████████████████████████---------------------| 79.8% \n",
      " |██████████████████████████████████████████████████████████████████████████████████------------------| 82.8% \n",
      " |█████████████████████████████████████████████████████████████████████████████████████---------------| 85.9% \n",
      " |████████████████████████████████████████████████████████████████████████████████████████------------| 89.0% \n",
      " |████████████████████████████████████████████████████████████████████████████████████████████--------| 92.0% \n",
      " |███████████████████████████████████████████████████████████████████████████████████████████████-----| 95.1% \n",
      " |██████████████████████████████████████████████████████████████████████████████████████████████████--| 98.2% \n",
      "\n",
      "total time:  73.3s\n",
      "mean time per slice =  0.2s\n",
      "total correction time:  73.3 s\n",
      "saving all data as png...\n"
     ]
    },
    {
     "name": "stderr",
     "output_type": "stream",
     "text": [
      "[DistortionCorrection.py: line 233] 219554 negative pixels detected; setting these to zero and continuing\n"
     ]
    },
    {
     "name": "stdout",
     "output_type": "stream",
     "text": [
      "images export to png successful\n",
      "saving all data as dcm...\n",
      "images exported to dicom\n"
     ]
    }
   ],
   "source": [
    "from mri_distortion_toolkit.DistortionCorrection import ImageDomainDistortionCorrector\n",
    "from mri_distortion_toolkit.utilities import plot_distortion_xyz_hist\n",
    "\n",
    "\n",
    "distorted_data_loc = dataloc / scans['8'] / 'Original'\n",
    "dicom_data = get_dicom_data(distorted_data_loc / 'dicom_data.json')\n",
    "GDC = ImageDomainDistortionCorrector(ImageDirectory=distorted_data_loc.resolve(),\n",
    "                                gradient_harmonics=[Path('_data/G_x_Harmonics_rot.csv').resolve(),\n",
    "                                                    Path('_data/G_y_Harmonics_rot.csv').resolve(),\n",
    "                                                    Path('_data/G_z_Harmonics_rot.csv').resolve()],\n",
    "                                B0_harmonics=Path('_data/B0_Harmonics_rot.csv').resolve(),\n",
    "                                dicom_data=dicom_data,\n",
    "                                ImExtension='dcm',\n",
    "                                correct_through_plane=True,\n",
    "                                correct_B0=True,\n",
    "                                B0_direction='back')\n",
    "\n",
    "GDC.correct_all_images()\n",
    "GDC.save_all_images()  # saves as png so you can quickly inspect results\n",
    "GDC.save_all_images_as_dicom()  # saves as dicom which can be read into analysis packages."
   ]
  },
  {
   "cell_type": "markdown",
   "id": "e0b78e77",
   "metadata": {},
   "source": [
    "## Assess distortion correction"
   ]
  },
  {
   "cell_type": "code",
   "execution_count": 14,
   "id": "6553b173",
   "metadata": {},
   "outputs": [
    {
     "name": "stderr",
     "output_type": "stream",
     "text": [
      "[MarkerAnalysis.py: line 127  WARNING] MR data file dicom_data.json not found at /home/brendan/HairyHome/Downloads/FrankenGoam^Mr/CT. Continuing\n"
     ]
    },
    {
     "name": "stdout",
     "output_type": "stream",
     "text": [
      "total segmentation time:  5.5 s\n",
      "aligning ground truth centroids by \n",
      "x   -16.753958\n",
      "y   -54.863908\n",
      "z     0.801880\n",
      "dtype: float64\n",
      "rotating ground truth centroids by \n",
      "[[ 0.99995309 -0.00838709 -0.00484465]\n",
      " [ 0.00836627  0.99995574 -0.00430386]\n",
      " [ 0.00488054  0.00426313  0.999979  ]]\n",
      "mean distortion:  0.7 mm, std:  0.4 mm, Max:  2.9 mm\n"
     ]
    },
    {
     "data": {
      "image/png": "[encoded data removed]",
      "text/plain": [
       "<Figure size 640x480 with 1 Axes>"
      ]
     },
     "metadata": {},
     "output_type": "display_data"
    }
   ],
   "source": [
    "# Assess correction:\n",
    "gt_data_loc = Path(r'/home/brendan/HairyHome/Downloads/FrankenGoam^Mr/CT/slicer_centroids.mrk.json')\n",
    "gt_volume = MarkerVolume(gt_data_loc)\n",
    "gt_volume.rotate_markers(yaxis_angle=90)  # have to reorient\n",
    "gt_volume.rotate_markers(zaxis_angle=180)\n",
    "gt_volume.rotate_markers(xaxis_angle=180)\n",
    "\n",
    "corrected_volume = MarkerVolume(distorted_data_loc / 'corrected_dcm', n_markers_expected=609,  # nb 609 because end slice missing\n",
    "                                iterative_segmentation=False,\n",
    "                                gaussian_image_filter_sd=0.6,\n",
    "                                threshold=412)\n",
    "matched_volume_corrected = MatchedMarkerVolumes(gt_volume, corrected_volume, n_refernce_markers=9)\n",
    "matched_volume_corrected.report()\n",
    "plot_distortion_xyz_hist(matched_volume_corrected)"
   ]
  },
  {
   "cell_type": "code",
   "execution_count": null,
   "id": "365391d7",
   "metadata": {},
   "outputs": [],
   "source": []
  }
 ],
 "metadata": {
  "kernelspec": {
   "display_name": "Python 3 (ipykernel)",
   "language": "python",
   "name": "python3"
  },
  "language_info": {
   "codemirror_mode": {
    "name": "ipython",
    "version": 3
   },
   "file_extension": ".py",
   "mimetype": "text/x-python",
   "name": "python",
   "nbconvert_exporter": "python",
   "pygments_lexer": "ipython3",
   "version": "3.10.6"
  }
 },
 "nbformat": 4,
 "nbformat_minor": 5
}
